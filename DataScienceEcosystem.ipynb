{
 "cells": [
  {
   "cell_type": "markdown",
   "id": "95f7be8d-fc05-4f5f-b1f0-bd48d065e599",
   "metadata": {},
   "source": [
    "# Data Science Tools and Ecosystem"
   ]
  },
  {
   "cell_type": "markdown",
   "id": "8ffb1353-6a9e-46cb-9809-74b20af6319c",
   "metadata": {},
   "source": [
    "In this notebook, Data Science Tools and Ecosystem are summarized."
   ]
  },
  {
   "cell_type": "markdown",
   "id": "ea51965a-ee4b-48a7-b9a9-f06418a87d28",
   "metadata": {},
   "source": [
    "**Objectives:**\n",
    "* List popular languages for Data Science\n",
    "* List commonly used libraries used by Data Scientists\n",
    "* List popular data science tools"
   ]
  },
  {
   "cell_type": "markdown",
   "id": "8f553dc9-22eb-4dd9-92b7-f6924fc00df7",
   "metadata": {},
   "source": [
    "Some of the popular languages that Data Scientists use are:\n",
    "1. Python\n",
    "2. R\n",
    "3. SQL"
   ]
  },
  {
   "cell_type": "markdown",
   "id": "d18f33c3-690e-47a7-aaf4-46f073100937",
   "metadata": {},
   "source": [
    "Some of the commonly used libraries used by Data Scientists include:\n",
    "\n",
    "1. Panda\n",
    "2. Numpy\n",
    "3. ggplot2\n",
    "4. matplotlib\n",
    "5. Scikit-Learn"
   ]
  },
  {
   "cell_type": "markdown",
   "id": "335025e9-8962-4535-a1de-0dc399bb8597",
   "metadata": {},
   "source": [
    "<table>\n",
    "    <tr> \n",
    "        <th>Data Science Tools</th>\n",
    "    </tr>\n",
    "    <tr>\n",
    "        <td>Jupyter</td>\n",
    "    </tr>\n",
    "    <tr>\n",
    "        <td>Github</td>\n",
    "    </tr>\n",
    "    <tr>\n",
    "        <td>Rstudio</td>\n",
    "    </tr>\n",
    "</table>"
   ]
  },
  {
   "cell_type": "markdown",
   "id": "0a8ee450-5f37-4c40-8d2e-a3e283a12859",
   "metadata": {},
   "source": [
    "### Below are a few examples of evaluating arithmetic expressions in Python"
   ]
  },
  {
   "cell_type": "markdown",
   "id": "42923a22-243b-4a18-a318-8c2a50b13932",
   "metadata": {},
   "source": [
    "This a simple arithmetic expression to mutiply then add integers"
   ]
  },
  {
   "cell_type": "code",
   "execution_count": 5,
   "id": "056784df-0977-4c21-b1ea-28e2c42affa5",
   "metadata": {
    "tags": []
   },
   "outputs": [
    {
     "data": {
      "text/plain": [
       "17"
      ]
     },
     "execution_count": 5,
     "metadata": {},
     "output_type": "execute_result"
    }
   ],
   "source": [
    "(3*4)+5"
   ]
  },
  {
   "cell_type": "markdown",
   "id": "d44f09d0-05c5-4f53-8121-5586248e5222",
   "metadata": {},
   "source": [
    "This will convert 200 minutes to hours by diving by 60"
   ]
  },
  {
   "cell_type": "code",
   "execution_count": 4,
   "id": "1d846c95-ddd0-4535-a80d-66a545e8aefc",
   "metadata": {
    "tags": []
   },
   "outputs": [
    {
     "data": {
      "text/plain": [
       "3.3333333333333335"
      ]
     },
     "execution_count": 4,
     "metadata": {},
     "output_type": "execute_result"
    }
   ],
   "source": [
    "200/60"
   ]
  },
  {
   "cell_type": "markdown",
   "id": "d76215e3-3077-4bbf-a2db-0e03173849e9",
   "metadata": {},
   "source": [
    "## Author\n",
    "Md Sahid Parvez"
   ]
  },
  {
   "cell_type": "code",
   "execution_count": null,
   "id": "e0c4409b-2cab-4c36-b519-6f13b6fe470f",
   "metadata": {},
   "outputs": [],
   "source": []
  }
 ],
 "metadata": {
  "kernelspec": {
   "display_name": "Python",
   "language": "python",
   "name": "conda-env-python-py"
  },
  "language_info": {
   "codemirror_mode": {
    "name": "ipython",
    "version": 3
   },
   "file_extension": ".py",
   "mimetype": "text/x-python",
   "name": "python",
   "nbconvert_exporter": "python",
   "pygments_lexer": "ipython3",
   "version": "3.7.12"
  }
 },
 "nbformat": 4,
 "nbformat_minor": 5
}
